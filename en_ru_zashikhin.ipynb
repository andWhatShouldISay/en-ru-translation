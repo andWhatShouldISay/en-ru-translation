{
  "cells": [
    {
      "cell_type": "markdown",
      "metadata": {
        "id": "ztcPpl6hPsAU"
      },
      "source": [
        "# Lab 1"
      ]
    },
    {
      "cell_type": "markdown",
      "metadata": {
        "id": "6raI4E_fPsAW"
      },
      "source": [
        "Neural Machine Translation in the wild\n",
        "In the third homework you are supposed to get the best translation you can for the translation task.\n",
        "You can use EN-DE translation pair (as on [day03 practice](https://github.com/girafe-ai/ml-mipt/tree/22s_harbour_dlia/day03_machine_translation)) or EN-RU translation pair.\n",
        "\n",
        "You can also use any other appropriate parallel text corpus. EN-RU example below shows how to use your own dataset for this purposes\n",
        "\n",
        "Basic approach using RNNs as encoder and decoder is implemented for you. \n",
        "\n",
        "Your ultimate task is to use the techniques we've covered, e.g.\n",
        "\n",
        "* Optimization enhancements (e.g. learning rate decay)\n",
        "\n",
        "* CNN encoder (with or without positional encoding)\n",
        "\n",
        "* attention/self-attention mechanism\n",
        "\n",
        "* pretraining the language model\n",
        "\n",
        "* [Byte Pair Encoding](https://github.com/rsennrich/subword-nmt)\n",
        "\n",
        "* or just fine-tunning BERT ;)\n",
        "\n",
        "to improve the translation quality. \n",
        "\n",
        "__Please use at least three different approaches/models and compare them (translation quality/complexity/training and evaluation time).__\n",
        "\n",
        "Write down some summary on your experiments and illustrate it with convergence plots/metrics and your thoughts. Just like you would approach a real problem."
      ]
    },
    {
      "cell_type": "markdown",
      "metadata": {
        "id": "vwWKRfkUzUIJ"
      },
      "source": [
        "#### External data usage with EN-RU corpus as an example:"
      ]
    },
    {
      "cell_type": "code",
      "execution_count": null,
      "metadata": {
        "colab": {
          "base_uri": "https://localhost:8080/"
        },
        "id": "ORBsRFA-PsAY",
        "outputId": "a8a8ee35-a845-4cc7-e7c0-7d768ac31d55"
      },
      "outputs": [
        {
          "output_type": "stream",
          "name": "stdout",
          "text": [
            "File ‘data.txt’ already there; not retrieving.\n",
            "\n"
          ]
        }
      ],
      "source": [
        "# Thanks to YSDA NLP course team for the data\n",
        "# (who thanks tilda and deephack teams for the data in their turn)\n",
        "!wget -nc https://raw.githubusercontent.com/girafe-ai/ml-mipt/master/datasets/Machine_translation_EN_RU/data.txt"
      ]
    },
    {
      "cell_type": "markdown",
      "metadata": {
        "id": "3ihZ_nVUmsyC"
      },
      "source": [
        "The `data.txt` is a tsv file, each line of which contains a sentence in english and a corresponding translation, separated by `\\t`. We'll load it into memory and create a list of pairs, which would yield the same interface as with the torchtext's datasets."
      ]
    },
    {
      "cell_type": "code",
      "execution_count": null,
      "metadata": {
        "colab": {
          "base_uri": "https://localhost:8080/"
        },
        "id": "_wzRffwfgizj",
        "outputId": "c9bbd06b-50e0-4aff-e414-c5f1a0ec7e9e"
      },
      "outputs": [
        {
          "output_type": "stream",
          "name": "stdout",
          "text": [
            "Dataset size 50,000\n",
            "Sample:\n"
          ]
        },
        {
          "output_type": "execute_result",
          "data": {
            "text/plain": [
              "[['Cordelia Hotel is situated in Tbilisi, a 3-minute walk away from Saint Trinity Church.',\n",
              "  'Отель Cordelia расположен в Тбилиси, в 3 минутах ходьбы от Свято-Троицкого собора.'],\n",
              " ['At Tupirmarka Lodge you will find a 24-hour front desk, room service, and a snack bar.',\n",
              "  'В числе удобств лоджа Tupirmarka круглосуточная стойка регистрации и снэк-бар. Гости могут воспользоваться услугой доставки еды и напитков в номер.'],\n",
              " ['Featuring free WiFi in all areas, Naigao Xiaowo offers accommodation in Shanghai.',\n",
              "  'Апартаменты Naigao Xiaowo расположены в городе Шанхай. К услугам гостей бесплатный Wi-Fi во всех зонах.'],\n",
              " ['Each has a TV and a private bathroom with shower.',\n",
              "  'В вашем распоряжении также телевизор и собственная ванная комната с душем.'],\n",
              " ['Your room comes with air conditioning and satellite TV.',\n",
              "  'Номер оснащен кондиционером и спутниковым телевидением.']]"
            ]
          },
          "metadata": {},
          "execution_count": 2
        }
      ],
      "source": [
        "with open(\"data.txt\") as f:\n",
        "    data = [l.rstrip().split(\"\\t\") for l in f]\n",
        "\n",
        "print(f\"Dataset size {len(data):,}\")\n",
        "print(\"Sample:\")\n",
        "data[:5]"
      ]
    },
    {
      "cell_type": "markdown",
      "metadata": {
        "id": "BjDuhDOWPsAa"
      },
      "source": [
        "## Data preprocessing"
      ]
    },
    {
      "cell_type": "markdown",
      "metadata": {
        "id": "RW41CAd1ofXD"
      },
      "source": [
        "First of all, let's split our dataset into train, test and validation."
      ]
    },
    {
      "cell_type": "code",
      "execution_count": null,
      "metadata": {
        "colab": {
          "base_uri": "https://localhost:8080/"
        },
        "id": "GXYV0vWaolpm",
        "outputId": "a6c2f455-a64f-4322-d015-9047b6d072bf"
      },
      "outputs": [
        {
          "output_type": "stream",
          "name": "stdout",
          "text": [
            "Train size: 40000\n",
            "Test size: 7500\n",
            "Val size: 2500\n"
          ]
        }
      ],
      "source": [
        "import torch\n",
        "from torch.utils.data import random_split\n",
        "\n",
        "\n",
        "data_size = len(data)\n",
        "train_size = int(0.8 * data_size)\n",
        "test_size = int(0.15 * data_size)\n",
        "val_size = data_size - train_size - test_size\n",
        "train_data, test_data, val_data = random_split(\n",
        "    data, [train_size, test_size, val_size], generator=torch.Generator().manual_seed(42)\n",
        ")\n",
        "print(f\"Train size: {len(train_data)}\")\n",
        "print(f\"Test size: {len(test_data)}\")\n",
        "print(f\"Val size: {len(val_data)}\")"
      ]
    },
    {
      "cell_type": "markdown",
      "metadata": {
        "id": "5gGXkxD5odoA"
      },
      "source": [
        "Here comes the preprocessing. If you find pieces, that you don't understand, please, go back to 3rd week's practice notebook. The code is mostly taken from it.\n",
        "\n",
        "Do not hesitate to use BPE or more complex preprocessing pipeline ;)"
      ]
    },
    {
      "cell_type": "code",
      "execution_count": null,
      "metadata": {
        "id": "6sGsE2moPsAa"
      },
      "outputs": [],
      "source": [
        "from nltk.tokenize import WordPunctTokenizer\n",
        "\n",
        "\n",
        "tokenizer = WordPunctTokenizer()\n",
        "\n",
        "\n",
        "def tokenize(sent):\n",
        "    return tokenizer.tokenize(sent.lower())"
      ]
    },
    {
      "cell_type": "code",
      "execution_count": null,
      "metadata": {
        "id": "LmshoKhRpQVj"
      },
      "outputs": [],
      "source": [
        "from collections import Counter\n",
        "\n",
        "from torchtext.vocab import vocab as Vocab\n",
        "\n",
        "\n",
        "src_counter = Counter()\n",
        "trg_counter = Counter()\n",
        "for src, trg in train_data:\n",
        "    src_counter.update(tokenize(src))\n",
        "    trg_counter.update(tokenize(trg))\n",
        "\n",
        "src_vocab = Vocab(src_counter, min_freq=3)\n",
        "trg_vocab = Vocab(trg_counter, min_freq=3)"
      ]
    },
    {
      "cell_type": "code",
      "execution_count": null,
      "metadata": {
        "colab": {
          "base_uri": "https://localhost:8080/"
        },
        "id": "RxBsel4JpaTP",
        "outputId": "e82f1e9b-7572-412d-88eb-586fb663846f"
      },
      "outputs": [
        {
          "output_type": "stream",
          "name": "stdout",
          "text": [
            "Source (en) vocabulary size: 6711\n",
            "Target (ru) vocabulary size: 9310\n"
          ]
        }
      ],
      "source": [
        "unk_token = \"<unk>\"\n",
        "sos_token, eos_token, pad_token = \"<sos>\", \"<eos>\", \"<pad>\"\n",
        "specials = [sos_token, eos_token, pad_token]\n",
        "\n",
        "for vocab in [src_vocab, trg_vocab]:\n",
        "    if unk_token not in vocab:\n",
        "        vocab.insert_token(unk_token, index=0)\n",
        "        vocab.set_default_index(0)\n",
        "\n",
        "    for token in specials:\n",
        "        if token not in vocab:\n",
        "            vocab.append_token(token)\n",
        "\n",
        "print(f\"Source (en) vocabulary size: {len(src_vocab)}\")\n",
        "print(f\"Target (ru) vocabulary size: {len(trg_vocab)}\")"
      ]
    },
    {
      "cell_type": "code",
      "execution_count": null,
      "metadata": {
        "id": "DpFjrwNHpiZq"
      },
      "outputs": [],
      "source": [
        "def encode(sent, vocab):\n",
        "    tokenized = [sos_token] + tokenize(sent) + [eos_token]\n",
        "    return [vocab[tok] for tok in tokenized]"
      ]
    },
    {
      "cell_type": "code",
      "execution_count": null,
      "metadata": {
        "colab": {
          "base_uri": "https://localhost:8080/"
        },
        "id": "QpWUg9RuqGXm",
        "outputId": "19b2e950-e64e-4859-ceb8-0d5d0bd46c63"
      },
      "outputs": [
        {
          "output_type": "stream",
          "name": "stdout",
          "text": [
            "sos 9307\n",
            "pad 9309\n"
          ]
        },
        {
          "output_type": "execute_result",
          "data": {
            "text/plain": [
              "(torch.Size([55, 256]),\n",
              " torch.Size([50, 256]),\n",
              " tensor([9307, 9307, 9307, 9307, 9307, 9307, 9307, 9307, 9307, 9307, 9307, 9307,\n",
              "         9307, 9307, 9307, 9307, 9307, 9307, 9307, 9307, 9307, 9307, 9307, 9307,\n",
              "         9307, 9307, 9307, 9307, 9307, 9307, 9307, 9307, 9307, 9307, 9307, 9307,\n",
              "         9307, 9307, 9307, 9307, 9307, 9307, 9307, 9307, 9307, 9307, 9307, 9307,\n",
              "         9307, 9307, 9307, 9307, 9307, 9307, 9307, 9307, 9307, 9307, 9307, 9307,\n",
              "         9307, 9307, 9307, 9307, 9307, 9307, 9307, 9307, 9307, 9307, 9307, 9307,\n",
              "         9307, 9307, 9307, 9307, 9307, 9307, 9307, 9307, 9307, 9307, 9307, 9307,\n",
              "         9307, 9307, 9307, 9307, 9307, 9307, 9307, 9307, 9307, 9307, 9307, 9307,\n",
              "         9307, 9307, 9307, 9307, 9307, 9307, 9307, 9307, 9307, 9307, 9307, 9307,\n",
              "         9307, 9307, 9307, 9307, 9307, 9307, 9307, 9307, 9307, 9307, 9307, 9307,\n",
              "         9307, 9307, 9307, 9307, 9307, 9307, 9307, 9307, 9307, 9307, 9307, 9307,\n",
              "         9307, 9307, 9307, 9307, 9307, 9307, 9307, 9307, 9307, 9307, 9307, 9307,\n",
              "         9307, 9307, 9307, 9307, 9307, 9307, 9307, 9307, 9307, 9307, 9307, 9307,\n",
              "         9307, 9307, 9307, 9307, 9307, 9307, 9307, 9307, 9307, 9307, 9307, 9307,\n",
              "         9307, 9307, 9307, 9307, 9307, 9307, 9307, 9307, 9307, 9307, 9307, 9307,\n",
              "         9307, 9307, 9307, 9307, 9307, 9307, 9307, 9307, 9307, 9307, 9307, 9307,\n",
              "         9307, 9307, 9307, 9307, 9307, 9307, 9307, 9307, 9307, 9307, 9307, 9307,\n",
              "         9307, 9307, 9307, 9307, 9307, 9307, 9307, 9307, 9307, 9307, 9307, 9307,\n",
              "         9307, 9307, 9307, 9307, 9307, 9307, 9307, 9307, 9307, 9307, 9307, 9307,\n",
              "         9307, 9307, 9307, 9307, 9307, 9307, 9307, 9307, 9307, 9307, 9307, 9307,\n",
              "         9307, 9307, 9307, 9307, 9307, 9307, 9307, 9307, 9307, 9307, 9307, 9307,\n",
              "         9307, 9307, 9307, 9307]),\n",
              " tensor([9309, 9309, 9309, 9309, 9309, 9309, 9309, 9309, 9309, 9309, 9309, 9309,\n",
              "         9309, 9309, 9309, 9309, 9309, 9309, 9309, 9309, 9309, 9309, 9309, 9309,\n",
              "         9309, 9309, 9309, 9309, 9309, 9309, 9309, 9309, 9309, 9309, 9309, 9309,\n",
              "         9309, 9309, 9309, 9309, 9309, 9309, 9309, 9309, 9309, 9309, 9309, 9309,\n",
              "         9309, 9309, 9309, 9309, 9309, 9309, 9309, 9309, 9309, 9309, 9309, 9309,\n",
              "         9309, 9309, 9309, 9309, 9309, 9309, 9309, 9309, 9309, 9309, 9309, 9309,\n",
              "         9309, 9309, 9309, 9309, 9309, 9309, 9309, 9309, 9309, 9309, 9309, 9309,\n",
              "         9309, 9309, 9309, 9309, 9309, 9309, 9309, 9309, 9309, 9309, 9309, 9309,\n",
              "         9309, 9309, 9309, 9309, 9309, 9309, 9309, 9309, 9309, 9309, 9309, 9309,\n",
              "         9309, 9309, 9309, 9309, 9309, 9309, 9309, 9309, 9309, 9309, 9309, 9309,\n",
              "         9309, 9309, 9309, 9309, 9309, 9309, 9309, 9309, 9309, 9309, 9309, 9309,\n",
              "         9309, 9309, 9309, 9309, 9309, 9309, 9309, 9309, 9309, 9309, 9309, 9308,\n",
              "         9309, 9309, 9309, 9309, 9309, 9309, 9309, 9309, 9309, 9309, 9309, 9309,\n",
              "         9309, 9309, 9309, 9309, 9309, 9309, 9309, 9309, 9309, 9309, 9309, 9309,\n",
              "         9309, 9309, 9309, 9309, 9309, 9309, 9309, 9309, 9309, 9309, 9309, 9309,\n",
              "         9309, 9309, 9309, 9309, 9309, 9309, 9309, 9309, 9309, 9309, 9309, 9309,\n",
              "         9309, 9309, 9309, 9309, 9309, 9309, 9309, 9309, 9309, 9309, 9309, 9309,\n",
              "         9309, 9309, 9309, 9309, 9309, 9309, 9309, 9309, 9309, 9309, 9309, 9309,\n",
              "         9309, 9309, 9309, 9309, 9309, 9309, 9309, 9309, 9309, 9309, 9309, 9309,\n",
              "         9309, 9309, 9309, 9309, 9309, 9309, 9309, 9309, 9309, 9309, 9309, 9309,\n",
              "         9309, 9309, 9309, 9309, 9309, 9309, 9309, 9309, 9309, 9309, 9309, 9309,\n",
              "         9309, 9309, 9309, 9309]))"
            ]
          },
          "metadata": {},
          "execution_count": 8
        }
      ],
      "source": [
        "from torch.nn.utils.rnn import pad_sequence\n",
        "from torch.utils.data import DataLoader\n",
        "\n",
        "\n",
        "def collate_batch(batch):\n",
        "    src_list, trg_list = [], []\n",
        "    for src, trg in batch:\n",
        "        src_encoded = encode(src, src_vocab)\n",
        "        src_list.append(torch.tensor(src_encoded))\n",
        "\n",
        "        trg_encoded = encode(trg, trg_vocab)\n",
        "        trg_list.append(torch.tensor(trg_encoded))\n",
        "\n",
        "    src_padded = pad_sequence(src_list, padding_value=src_vocab[pad_token])\n",
        "    trg_padded = pad_sequence(trg_list, padding_value=trg_vocab[pad_token])\n",
        "    return src_padded, trg_padded\n",
        "\n",
        "\n",
        "batch_size = 256\n",
        "train_dataloader = DataLoader(train_data, batch_size, shuffle=True, collate_fn=collate_batch)\n",
        "val_dataloader = DataLoader(val_data, batch_size, shuffle=False, collate_fn=collate_batch)\n",
        "test_dataloader = DataLoader(test_data, batch_size, shuffle=False, collate_fn=collate_batch)\n",
        "\n",
        "src_batch, trg_batch = next(iter(train_dataloader))\n",
        "print(\"sos\", trg_vocab[sos_token])\n",
        "print(\"pad\", trg_vocab[pad_token])\n",
        "src_batch.shape, trg_batch.shape ,trg_batch[0, :], trg_batch[-1,: ]\n",
        "\n"
      ]
    },
    {
      "cell_type": "markdown",
      "metadata": {
        "id": "8nvNQhzfPsAe"
      },
      "source": [
        "## Model side"
      ]
    },
    {
      "cell_type": "code",
      "execution_count": null,
      "metadata": {
        "id": "wKXxEXwFtMPP"
      },
      "outputs": [],
      "source": [
        "import random\n",
        "\n",
        "import torch.nn as nn\n",
        "\n",
        "import torch.nn.functional as F\n",
        "\n",
        "class Encoder(nn.Module):\n",
        "    def __init__(self, n_tokens, emb_dim, hid_dim, n_layers, dropout):\n",
        "        super().__init__()\n",
        "\n",
        "        self.n_tokens = n_tokens\n",
        "        self.hid_dim = hid_dim\n",
        "        self.n_layers = n_layers\n",
        "\n",
        "        self.embedding = nn.Embedding(n_tokens, emb_dim)\n",
        "        self.dropout = nn.Dropout(dropout)\n",
        "        self.rnn = nn.GRU(emb_dim, hid_dim, n_layers, dropout=dropout,batch_first=False)\n",
        "\n",
        "    def forward(self, src):\n",
        "        embedded = self.embedding(src)\n",
        "        embedded = self.dropout(embedded)\n",
        "        output, hidden = self.rnn(embedded)\n",
        "        return output, hidden\n",
        "\n",
        "\n",
        "class Decoder(nn.Module):\n",
        "    def __init__(self, n_tokens, emb_dim, hid_dim, n_layers, dropout):\n",
        "        super().__init__()\n",
        "\n",
        "\n",
        "        self.n_tokens = n_tokens\n",
        "        self.hid_dim = hid_dim\n",
        "        self.n_layers = n_layers\n",
        "\n",
        "        self.max_length = 70\n",
        "\n",
        "        self.embedding = nn.Embedding(self.n_tokens, self.hid_dim)\n",
        "        self.attn = nn.Linear(self.hid_dim * 2, self.max_length)\n",
        "        self.attn_combine = nn.Linear(self.hid_dim * 2, self.hid_dim)\n",
        "        self.dropout = nn.Dropout(dropout)\n",
        "        self.gru = nn.GRU(self.hid_dim, self.hid_dim,batch_first=False, num_layers=n_layers)\n",
        "        self.out = nn.Linear(self.hid_dim, self.n_tokens)\n",
        "\n",
        "    def forward(self, input, hidden, encoder_outputs):\n",
        "        # print(\"input\", input.shape)\n",
        "        # print(\"hidden\", hidden.shape)\n",
        "\n",
        "        if encoder_outputs.shape[1] < self.max_length:\n",
        "          \n",
        "          encoder_outputs = F.pad(input=encoder_outputs, pad=(0, 0, 0, self.max_length-encoder_outputs.shape[1], 0, 0), mode='constant', value=0)\n",
        "                                      \n",
        "        else:\n",
        "\n",
        "          encoder_outputs = encoder_outputs[:,-self.max_length:,:]\n",
        "\n",
        "        # print(\"encoder_outputs\", encoder_outputs.shape)\n",
        "        # print()\n",
        "\n",
        "        embedded = self.embedding(input)\n",
        "        embedded = self.dropout(embedded)\n",
        "\n",
        "        # print(\"embedded\",embedded.shape)\n",
        "\n",
        "        attn_weights = F.softmax(\n",
        "            self.attn(torch.cat((embedded, hidden[-1]), 1)), dim=1).unsqueeze(1)\n",
        "        \n",
        "        # print(\"attn weights\", attn_weights.shape)\n",
        "\n",
        "        attn_applied = torch.bmm(attn_weights,\n",
        "                                 encoder_outputs).squeeze(dim=1)\n",
        "\n",
        "        # print(\"attn\", attn_applied.shape)\n",
        "        # print()\n",
        "\n",
        "        output = torch.cat((embedded, attn_applied), 1)\n",
        "        output = self.attn_combine(output)\n",
        "\n",
        "        output = F.relu(output).unsqueeze(0)\n",
        "\n",
        "        output, hidden = self.gru(output, hidden)\n",
        "\n",
        "\n",
        "        # print(\"output\", output.shape)\n",
        "        # print(\"hidden\", hidden.shape)\n",
        "\n",
        "\n",
        "        output = F.log_softmax(self.out(output), dim=2)\n",
        "\n",
        "        return output.squeeze(0), hidden\n",
        "\n",
        "\n",
        "class Seq2Seq(nn.Module):\n",
        "    def __init__(self, encoder, decoder):\n",
        "        super().__init__()\n",
        "\n",
        "        self.encoder = encoder\n",
        "        self.decoder = decoder\n",
        "\n",
        "        assert encoder.hid_dim == decoder.hid_dim, \"encoder and decoder must have same hidden dim\"\n",
        "        assert (\n",
        "            encoder.n_layers == decoder.n_layers\n",
        "        ), \"encoder and decoder must have equal number of layers\"\n",
        "\n",
        "    def forward(self, src, trg, teacher_forcing_ratio=0.5):\n",
        "        trg_len, batch_size = trg.shape\n",
        "        preds = []\n",
        "        encoder_outputs, hidden = self.encoder(src)\n",
        "        encoder_outputs = encoder_outputs.permute((1,0,2))\n",
        "\n",
        "\n",
        "        # First input to the decoder is the <sos> token.\n",
        "        input = trg[0, :]\n",
        "        for i in range(1, trg_len):\n",
        "            pred, hidden = self.decoder(input, hidden, encoder_outputs)\n",
        "            preds.append(pred)\n",
        "            teacher_force = random.random() < teacher_forcing_ratio\n",
        "            _, top_pred = pred.max(dim=1)\n",
        "            input = trg[i, :] if teacher_force else top_pred\n",
        "\n",
        "        return torch.stack(preds)"
      ]
    },
    {
      "cell_type": "code",
      "execution_count": 33,
      "metadata": {
        "colab": {
          "base_uri": "https://localhost:8080/"
        },
        "id": "yG_AegxcMw7N",
        "outputId": "7918cc78-763e-4687-dc0e-d6e8c89f0a69"
      },
      "outputs": [
        {
          "output_type": "stream",
          "name": "stdout",
          "text": [
            "torch.Size([44, 256]) torch.Size([44, 256]) torch.Size([43, 256, 9310])\n"
          ]
        }
      ],
      "source": [
        "device = torch.device(\"cuda:0\" if torch.cuda.is_available() else \"cpu\")\n",
        "\n",
        "# device = 'cpu'\n",
        "\n",
        "enc = Encoder(len(src_vocab), emb_dim=512, hid_dim=512, n_layers=4, dropout=0.5)\n",
        "dec = Decoder(len(trg_vocab), emb_dim=512, hid_dim=512, n_layers=4, dropout=0.5)\n",
        "model = Seq2Seq(enc, dec).to(device)\n",
        "for src, trg in train_dataloader:\n",
        "    src, trg = src.to(device), trg.to(device)\n",
        "    output = model(src, trg)\n",
        "    print(src.shape, trg.shape, output.shape)\n",
        " \n",
        "    break"
      ]
    },
    {
      "cell_type": "code",
      "execution_count": 34,
      "metadata": {
        "id": "4_-hFxcyPsAf"
      },
      "outputs": [],
      "source": [
        "def init_weights(m):\n",
        "    for name, param in m.named_parameters():\n",
        "        nn.init.uniform_(param, -0.08, 0.08)\n",
        "\n",
        "\n",
        "model.apply(init_weights);\n"
      ]
    },
    {
      "cell_type": "code",
      "execution_count": 35,
      "metadata": {
        "colab": {
          "base_uri": "https://localhost:8080/"
        },
        "id": "15zD2R7cPsAg",
        "outputId": "0b6f4bc9-1097-434e-8820-42de2413790a"
      },
      "outputs": [
        {
          "output_type": "stream",
          "name": "stdout",
          "text": [
            "The model has 26,182,820 trainable parameters\n"
          ]
        }
      ],
      "source": [
        "def count_parameters(model):\n",
        "    return sum(p.numel() for p in model.parameters() if p.requires_grad)\n",
        "\n",
        "\n",
        "print(f\"The model has {count_parameters(model):,} trainable parameters\")"
      ]
    },
    {
      "cell_type": "code",
      "source": [
        "model.load_state_dict(torch.load(\"drive/MyDrive/wowomg224904.h5\"))"
      ],
      "metadata": {
        "colab": {
          "base_uri": "https://localhost:8080/"
        },
        "id": "bok3QsYbr-P3",
        "outputId": "94daaba4-adf7-429f-ccc8-c146c6186696"
      },
      "execution_count": 39,
      "outputs": [
        {
          "output_type": "execute_result",
          "data": {
            "text/plain": [
              "<All keys matched successfully>"
            ]
          },
          "metadata": {},
          "execution_count": 39
        }
      ]
    },
    {
      "cell_type": "code",
      "execution_count": 36,
      "metadata": {
        "id": "cG45OrPDPsAg"
      },
      "outputs": [],
      "source": [
        "optimizer = torch.optim.Adam(model.parameters())\n",
        "criterion = nn.NLLLoss(ignore_index=trg_vocab[pad_token])"
      ]
    },
    {
      "cell_type": "code",
      "source": [
        "loss_history, train_loss_history300, train_loss_history, val_loss_history = [], [], [], []\n",
        "bleus = []\n"
      ],
      "metadata": {
        "id": "_vjZVPNoHRqq"
      },
      "execution_count": 37,
      "outputs": []
    },
    {
      "cell_type": "code",
      "source": [
        "train_loss_history = train_loss_history[0:22]\n",
        "val_loss_history = val_loss_history[0:22]\n",
        "bleus = bleus[0:22]"
      ],
      "metadata": {
        "id": "o9U50lyMg2j9"
      },
      "execution_count": null,
      "outputs": []
    },
    {
      "cell_type": "code",
      "execution_count": 38,
      "metadata": {
        "colab": {
          "base_uri": "https://localhost:8080/",
          "height": 351
        },
        "id": "sFsx5PcCudiG",
        "outputId": "81fcb6b0-8e64-4710-9c60-d0fa0ffb4466"
      },
      "outputs": [
        {
          "output_type": "display_data",
          "data": {
            "text/plain": [
              "<Figure size 1080x360 with 3 Axes>"
            ],
            "image/png": "[encoded data removed]"
          },
          "metadata": {
            "needs_background": "light"
          }
        },
        {
          "output_type": "stream",
          "name": "stdout",
          "text": [
            "Your model shows test BLEU of 20.7\n"
          ]
        }
      ],
      "source": [
        "import matplotlib.pyplot as plt\n",
        "import random \n",
        "from IPython.display import clear_output\n",
        "from torch.nn.utils import clip_grad_norm_\n",
        "\n",
        "\n",
        "# Please don't use tensorboard here.\n",
        "# It doesn't save the training plots in the notebook.\n",
        "n_epochs = 50\n",
        "clip = 1\n",
        "\n",
        "for epoch in range(n_epochs):\n",
        "    model.train()\n",
        "    train_loss = 0\n",
        "    for src, trg in train_dataloader:\n",
        "        src, trg = src.to(device), trg.to(device)\n",
        "        output = model(src, trg)\n",
        "\n",
        "        output = output.view(-1, output.shape[-1])\n",
        "        trg = trg[1:].flatten()\n",
        "\n",
        "        loss = criterion(output, trg)\n",
        "        optimizer.zero_grad()\n",
        "        loss.backward()\n",
        "        clip_grad_norm_(model.parameters(), clip)\n",
        "        optimizer.step()\n",
        "\n",
        "        train_loss += loss.item()\n",
        "        loss_history.append(loss.item())\n",
        "\n",
        "        if len(loss_history) % 5 == 4:\n",
        "            clear_output(wait=True)\n",
        "\n",
        "            plt.figure(figsize=(15, 5))\n",
        "\n",
        "            plt.subplot(131)\n",
        "            plt.plot(range(4,len(loss_history),5), loss_history[4::5])\n",
        "            plt.xlabel(\"step\")\n",
        "\n",
        "            plt.subplot(132)\n",
        "            plt.plot(train_loss_history, label=\"train loss\")\n",
        "            plt.plot(val_loss_history, label=\"val loss\")\n",
        "            plt.xlabel(\"epoch\")\n",
        "            plt.legend()\n",
        "\n",
        "            plt.subplot(133)\n",
        "            plt.plot(bleus, label=\"bleu\")\n",
        "            plt.xlabel(\"epoch\")\n",
        "            plt.legend()\n",
        "\n",
        "            plt.show()\n",
        "\n",
        "            torch.save(model.state_dict(), \"drive/MyDrive/md__d_.h5\")\n",
        "\n",
        "\n",
        "    train_loss /= len(train_dataloader)\n",
        "    train_loss_history.append(train_loss)\n",
        "\n",
        "    model.eval()\n",
        "    val_loss = 0\n",
        "    with torch.no_grad():\n",
        "        for src, trg in val_dataloader:\n",
        "            src, trg = src.to(device), trg.to(device)\n",
        "            output = model(src, trg, 0)\n",
        "\n",
        "            output = output.view(-1, output.shape[-1])\n",
        "            trg = trg[1:].view(-1)\n",
        "\n",
        "            loss = criterion(output, trg)\n",
        "\n",
        "            val_loss += loss.item()\n",
        "\n",
        "    val_loss /= len(val_dataloader)\n",
        "    val_loss_history.append(val_loss)\n",
        "    bleus.append(bleu(model)) \n",
        "    if bleus[-1] > 0.20:\n",
        "      torch.save(model.state_dict(), \"drive/MyDrive/wowomg\" + str(bleus[-1])[2:8] + \".h5\")"
      ]
    },
    {
      "cell_type": "markdown",
      "metadata": {
        "id": "Cp3-T3dDPsAg"
      },
      "source": [
        "## Model evaluation"
      ]
    },
    {
      "cell_type": "code",
      "execution_count": 40,
      "metadata": {
        "colab": {
          "base_uri": "https://localhost:8080/"
        },
        "id": "JtYccOGpPsAh",
        "outputId": "82502a8f-209d-4cba-b1d6-d1728e70ad9f"
      },
      "outputs": [
        {
          "output_type": "stream",
          "name": "stdout",
          "text": [
            "src: 'all apartments have a dvd player and satellite tv, a kitchen with a microwave, and a washing machine and a tumble dryer.'\n",
            "trg: 'все они оснащены телевизором со спутниковыми каналами и dvd-плеером, а также располагают кухней с микроволновой печью и стиральной/сушильной машиной.'\n",
            "pred: 'в распоряжении гостей апартаменты с стиральной машиной и машинами , а также телевизором с плоским экраном и спутниковыми каналами , dvd - плеером , а также полностью оборудованной кухней с посудомоечной машиной и электрическим чайником .'\n",
            "\n",
            "src: 'they are fitted with blackout curtains, free drinking water and free toiletries.'\n",
            "trg: 'гостям предоставляется бесплатная питьевая вода и бесплатные туалетно-косметическими принадлежности.'\n",
            "pred: 'в распоряжении гостей <unk> <unk> , <unk> - косметические принадлежности , а также бесплатный wi - fi .'\n",
            "\n",
            "src: 'a small refrigerator, coffee-making facilities and a work desk are included.'\n",
            "trg: 'к услугам гостей также небольшой холодильник, принадлежности для кофе и рабочий стол.'\n",
            "pred: 'в числе удобств — , где для чая / кофе , микроволновая печь и небольшой холодильник .'\n",
            "\n",
            "src: 'only 250 metres away, paral•lel metro station offers direct links to plaça catalunya and montjuïc hill.'\n",
            "trg: 'всего в 250 метрах расположена станция метро paral•lel, откуда можно без пересадок добраться до площади каталонии и горы монжуик.'\n",
            "pred: 'отель <unk> <unk> расположен в <unk> и центру города , откуда от отеля <unk> centre <unk> <unk> <unk> <unk> <unk> . станция метро <unk> <unk> и в и всего в 10 метрах от автобусной остановки <unk> .'\n",
            "\n",
            "src: 'the apartment will provide you with a satellite tv and air conditioning.there is a full a kitchen with a dishwasher and a refrigerator.'\n",
            "trg: 'апартаменты оснащены кондиционером и спутниковым телевидением. полноценная кухня оборудована посудомоечной машиной и холодильником.'\n",
            "pred: 'в распоряжении гостей отеля для отпуска с полностью оборудованная кухня , посудомоечной машиной , холодильником и телевизором с спутниковыми каналами , а также полностью оборудованная кухня .'\n",
            "\n",
            "src: 'cooked breakfast is served each morning at monk coniston, with a buffet selection including cereals, fresh fruit, yoghurts, croissants and pastries. there is also porridge, toast, juice, tea and coffee.'\n",
            "trg: 'каждое утро в загородном доме monk coniston сервируют полный английский завтрак и завтрак «шведский стол» с зерновыми хлопьями, свежими фруктами, йогуртами, круассанами и выпечкой, а также овсянкой, тостами, соком, чаем и кофе.'\n",
            "pred: 'в отеле работает <unk> house с <unk> котором можно заказать завтрак , кофе , чай , сок , <unk> <unk> , чай и свежевыжатый сок .'\n",
            "\n",
            "src: 'the hotel’s position on the rua de santa catarina shopping street offers convenient access to boutiques, bars and eateries.'\n",
            "trg: 'местоположение отеля на торговой улице руа-де-санта-катарина позволит гостям с легкостью добраться до бутиков, баров и кафе.'\n",
            "pred: 'на территории отеля <unk> <unk> <unk> работают множество баров и баров и баров , а также в которых работают ресторан <unk> - филд .'\n",
            "\n",
            "src: 'it also has a tranquil garden terrace.'\n",
            "trg: 'на тихой террасе разбит сад.'\n",
            "pred: 'в распоряжении гостей терраса с террасой для загара , а также обустроена терраса .'\n",
            "\n",
            "src: 'offering accommodation with air conditioning, residenza romana zucchelli is set in rome, 200 metres from piazza barberini. piazza di spagna is 400 metres from the property.'\n",
            "trg: 'комплекс residenza romana zucchelli расположен в риме, в 200 метрах от площади барберини и в 400 метрах от площади испании.'\n",
            "pred: 'апартаменты <unk> <unk> расположены в городе <unk> , в 400 метрах от площади <unk> - дель - <unk> и в 400 метрах от площади собора . к услугам гостей номера с паркетным полом и кондиционером .'\n",
            "\n",
            "src: 'parking is free on site.'\n",
            "trg: 'на территории предоставляется бесплатная парковка.'\n",
            "pred: 'на территории отеля дома можно бесплатно бесплатной парковкой .'\n",
            "\n",
            "src: 'guests can find a free internet point and free beach towels during their stay.'\n",
            "trg: 'во время пребывания на территории бесплатно предоставляются пляжные полотенца и доступ в интернет.'\n",
            "pred: 'гостям предоставляется бесплатный wifi . в отеле предоставляется бесплатный доступ в интернет и бесплатный доступ в интернет .'\n",
            "\n",
            "src: 'the nearest airport is pulkovo airport, 84 km from guest house korolev.'\n",
            "trg: 'расстояние от аэропорта пулково до гостевого дома «королев» составляет 84 км.'\n",
            "pred: 'гостевой дом « <unk> » находится в городе , в 1 км от международного аэропорта бандаранаике . в числе других удобств стиральная парковка .'\n",
            "\n",
            "src: 'the cathedral is 450 metres away, while albaicín and sacromonte are 2 km away.'\n",
            "trg: 'гранадский собор расположен в 450 метрах от гостевого дома, а расстояние до районов альбайсин и сакромонте составляет 2 км.'\n",
            "pred: 'апартаменты находятся в 1 км от <unk> <unk> и в <unk> и в 50 метрах от <unk> собора и собора собора .'\n",
            "\n",
            "src: 'a flat-screen cable tv is featured in the air-conditioned apartment.'\n",
            "trg: 'апартаменты оборудованы кондиционером и телевизором с плоским экраном и кабельными каналами.'\n",
            "pred: 'апартаменты располагают кондиционером , телевизором с плоским экраном и кабельными каналами .'\n",
            "\n",
            "src: 'there is a seating area and a kitchen.'\n",
            "trg: 'в числе удобств — кухня и гостиная зона.'\n",
            "pred: 'в распоряжении гостей обеденная зона и гостиный уголок .'\n",
            "\n",
            "src: 'the antholzertal card includes free public transport in the val pusteria valley, free access to cross-country slopes and discounted ski rental.'\n",
            "trg: 'карта antholzertal дает право на бесплатный проезд в общественном транспорте в долине валь-пустерия, бесплатный доступ к беговым лыжным трассам и скидки на прокат лыж.'\n",
            "pred: 'в отеле доме можно <unk> <unk> <unk> к услугам гостей бесплатный прокат велосипедов и бесплатный бесплатное бесплатное велосипеды на всей территории и бесплатная парковка .'\n",
            "\n",
            "src: 'the hotel is 1.6 km from wangfujing street, 2.1 km from guijie street and 2.2 km from nan luo gu xiang.'\n",
            "trg: 'отель расположен в 1,6 км от улицы ванфуцзин и в 2,1 км от улицы гуицзе. город нандуодзюсян можно посетить в 2,2 км.'\n",
            "pred: 'апартаменты <unk> <unk> расположены в городе <unk> - <unk> , в 2 , 2 км от <unk> <unk> и в 1 , 2 км от <unk> <unk> и в 1 , 2 км от <unk> <unk> .'\n",
            "\n",
            "src: 'the black sea is within a 12-minute walk.'\n",
            "trg: 'до черного моря 12 минут ходьбы.'\n",
            "pred: 'апартаменты с <unk> находятся в городе <unk> - <unk> , в 2 минутах ходьбы от пляжа . моря .'\n",
            "\n",
            "src: 'there are sign-posted cycle routes and a reservoir in podhájí, just 4 km away.'\n",
            "trg: 'в 4 км от отеля проходят велосипедные маршруты с указателями и расположено водохранилище в деревне подгаи.'\n",
            "pred: 'отель находится в городе <unk> , в 4 км от <unk> <unk> , на котором можно добраться до <unk> <unk> и <unk> , <unk> .'\n",
            "\n",
            "src: 'the main bus station can be found in trogir’s centre.'\n",
            "trg: 'главный автобусный вокзал расположен в центре города трогир.'\n",
            "pred: 'отель расположен в центре города города <unk> и рядом с многочисленными магазинами и общественным <unk> . .'\n",
            "\n",
            "src: 'some rooms can also accommodate guests with reduced mobility.'\n",
            "trg: 'некоторые номера подходят для размещения гостей с ограниченными физическими возможностями.'\n",
            "pred: 'в отеле можно разместиться до домах , где могут подняться на <unk> , <unk> могут разместиться в апартаментах .'\n",
            "\n",
            "src: 'a buffet breakfast is provided each morning in the bright conservatory of the gartenhotel luisenhof.'\n",
            "trg: 'каждое утро в светлом зимнем саду отеля gartenhotel luisenhof сервируют завтрак «шведский стол».'\n",
            "pred: 'в гостевом доме <unk> <unk> <unk> <unk> » к услугам гостей , а также завтрак « шведский стол ».'\n",
            "\n",
            "src: 'each room at le riad meknes is air-conditioned, has different architectural features and moroccan-style decor.'\n",
            "trg: 'все номера отеля le riad meknes оформлены в марокканском стиле с использованием различных архитектурных деталей и оснащены кондиционером.'\n",
            "pred: 'отель для отпуска the <unk> house с в современном стиле . он расположен в городе <unk> . к услугам гостей классические номера с кондиционером и <unk> также оформленные в теплых тонах с <unk> <unk> .'\n",
            "\n",
            "src: 'la ripa is a traditional stone cottage set in the unspoilt countryside around the protected area of the monumento naturale campo soriano.'\n",
            "trg: 'la ripa - традиционный каменный коттедж, расположенный на лоне нетронутой природы вокруг охраняемой зоны парка кампо сориано.'\n",
            "pred: 'в <unk> <unk> <unk> <unk> <unk> <unk> <unk> и <unk> , а в <unk> , от здания , <unk> <unk> загородной местности , расположенных в загородной местности , расположенных в конце <unk> <unk> .'\n",
            "\n",
            "src: 'ski storage and a ski waxing area is available at the motel.'\n",
            "trg: 'в мотеле обустроено помещение для хранения лыж и зона для покрытия лыж воском.'\n",
            "pred: 'в распоряжении гостей отеля « <unk> » » помещение для хранения лыж и сушилка для лыжных ботинок .'\n",
            "\n",
            "src: 'the kitchen is equipped with a stove, refrigerator, electric kettle and kitchenware.'\n",
            "trg: 'на кухне в распоряжении гостей плита, холодильник, электрический чайник и посуда.'\n",
            "pred: 'в распоряжении гостей отеля — принадлежности для барбекю и кухня с духовкой , холодильником , электрическим чайником .'\n",
            "\n",
            "src: 'nearby tourist destinations such as the towns of šibenik, split, trogir and national parks krka and kornati are easily reached from rogozinica.'\n",
            "trg: 'к числу близлежащих туристических достопримечательностей относятся города шибеник, сплит, трогир и национальные парки крка и корнати, до которых из рогозиницы можно без труда добраться.'\n",
            "pred: 'отель расположен в нескольких минутах от от центра <unk> и знаменитого исторического центра с <unk> <unk> , таких как замок <unk> и и и и и <unk> и и собор <unk> .'\n",
            "\n",
            "src: 'the suite features a view of the garden, a wardrobe, a seating area and tea and coffee making facilities.'\n",
            "trg: 'в люксе с видом на сад имеется гостиная зона, шкаф для одежды и принадлежности для чая/кофе.'\n",
            "pred: 'в распоряжении гостей отеля <unk> , принадлежности для барбекю , принадлежности для барбекю , гостиный уголок и качели , а также балкон с видом на сад .'\n",
            "\n",
            "src: 'duck key is a collection of 5 islets connected by venetian-style bridges with direct boat access to the atlantic ocean and the gulf of mexico.'\n",
            "trg: 'курортный отель duck key размещен на 5 небольших островках, соединенных между собой венецианскими мостиками, с прямым выходом для суден в атлантический океан и мексиканский залив.'\n",
            "pred: 'отель расположен в центре <unk> с <unk> и <unk> и <unk> и <unk> и <unk> и <unk> <unk> . он находится на территории национального парка <unk> , <unk> , <unk> <unk> и <unk> - лоренцо .'\n",
            "\n",
            "src: 'the private bathroom comes with a shower and provides a hairdryer.'\n",
            "trg: 'собственные ванные комнаты с душем укомплектованы феном.'\n",
            "pred: 'в распоряжении гостей собственная ванная комната с душем , феном и туалетно - косметическими принадлежностями .'\n",
            "\n",
            "src: 'all the rooms have balconies.'\n",
            "trg: 'все номера оборудованы балконами.'\n",
            "pred: 'из окон открывается вид на город .'\n",
            "\n",
            "src: 'amenities include a private balcony, a minibar and a sofa seating area.'\n",
            "trg: 'в вашем распоряжении собственный балкон, мини-бар и гостиная зона с диваном.'\n",
            "pred: 'в распоряжении гостей отеля - отеля с мини - баром , гостиным уголком , мини - баром и балконом .'\n",
            "\n",
            "src: 'the accommodation units include a private bathroom, a balcony and a seating area with satellite tv and a refrigerator.'\n",
            "trg: 'во всех номерах в вашем распоряжении собственная ванная комната, балкон и гостиный уголок со спутниковым телевидением и холодильником.'\n",
            "pred: 'апартаменты с в гостиной зоной и телевизором со спутниковыми каналами , а также располагают балконом и террасой и собственной ванной комнатой .'\n",
            "\n",
            "src: 'located 500 metres from the historic centre and a 15-minute walk from the commercial and financial area, royal torarica features a fitness centre, and outdoor swimming pool and a restaurant in paramaribo.'\n",
            "trg: 'отель royal torarica, в котором есть фитнес-центр, открытый бассейн и ресторан, расположен в столице суринама - городе парамарибо - в 500 метрах от его исторического центра и в 15 минутах ходьбы от коммерческого и финансового района.'\n",
            "pred: 'отель <unk> <unk> с рестораном и рестораном и фитнес - центром и центром расположен в городе ар - <unk> , рядом с центром <unk> и <unk> и в пределах минутах ходьбы от оживленной полей центров .'\n",
            "\n",
            "src: 'all the air-conditioned apartments at partner guest house include modern décor and a flat-screen tv.'\n",
            "trg: 'все апартаменты гостевого дома «partner» оформлены в современном стиле и оборудованы кондиционером и телевизором с плоским экраном.'\n",
            "pred: 'в этом современном стиле номера располагают кондиционером , телевизором с плоским экраном и кондиционером .'\n",
            "\n",
            "src: 'each air-conditioned apartment includes a flat-screen satellite tv and free wi-fi.'\n",
            "trg: 'все апартаменты оснащены кондиционером, телевизором с плоским экраном и спутниковыми каналами, а также бесплатным wi-fi.'\n",
            "pred: 'апартаменты с собственной кухней , бесплатным wi - fi , телевизором с плоским экраном и спутниковыми каналами .'\n",
            "\n",
            "src: 'other facilities offered include meeting facilities and a laundry.'\n",
            "trg: 'также в распоряжении гостей помещения для совещаний и прачечная.'\n",
            "pred: 'в распоряжении гостей отеля для отпуска следует воспользоваться камерой хранения багажа , а также и помещениями для проведения конференций .'\n",
            "\n",
            "src: 'best hôtel annecy - cran gevrier is located just 3.5 km from annecy lake and a 4-minute drive from annecy city centre.'\n",
            "trg: 'отель best annecy - cran gevrier расположен в 4 минутах езды от центра города анси и всего в 3,5 км от озера анси.'\n",
            "pred: 'отель <unk> находится в городе <unk> , в 10 минутах езды от гранд - комплекса <unk> и в 10 , 3 км от горнолыжного - <unk> .'\n",
            "\n",
            "src: 'this property is 4 km from xlendi.'\n",
            "trg: 'расстояние до шленди составляет 4 км.'\n",
            "pred: 'отель находится в 1 , 4 км от города <unk> .'\n",
            "\n",
            "src: 'free wi-fi access is provided in the entire hotel.'\n",
            "trg: 'на всей территории работает бесплатный wifi.'\n",
            "pred: 'к услугам гостей бесплатный , бесплатный wifi на всей территории .'\n",
            "\n",
            "src: 'highlands reserve golf club is 13 minutes' drive from the villa.'\n",
            "trg: 'поездка от виллы до гольф-клуба highlands reserve занимает 13 минут.'\n",
            "pred: 'до гольф - поля <unk> du <unk> составляет 13 минут .'\n",
            "\n"
          ]
        }
      ],
      "source": [
        "trg_itos = trg_vocab.get_itos()\n",
        "model.eval()\n",
        "max_len = 70\n",
        "with torch.no_grad():\n",
        "    for i, (src, trg) in enumerate(val_data):\n",
        "        encoded = encode(src, src_vocab)[::-1]\n",
        "        encoded = torch.tensor(encoded)[:, None].to(device)\n",
        "\n",
        "        output = model(encoded, torch.full((max_len, 1), trg_vocab[sos_token], device=device), teacher_forcing_ratio=0)\n",
        "\n",
        "        output = output.argmax(dim=2)\n",
        "\n",
        "        pred_tokens = [trg_vocab[sos_token]]\n",
        "\n",
        "        for j in range(len(output)):\n",
        "          if output[j, 0] == trg_vocab[eos_token]:\n",
        "            break\n",
        "          pred_tokens.append(output[j, 0].item())\n",
        "\n",
        "\n",
        "        print(f\"src: '{src.rstrip().lower()}'\")\n",
        "        print(f\"trg: '{trg.rstrip().lower()}'\")\n",
        "        print(f\"pred: '{' '.join(trg_itos[i] for i in pred_tokens[1:])}'\")\n",
        "        print()\n",
        "\n",
        "        if i == 40:\n",
        "            break"
      ]
    },
    {
      "cell_type": "markdown",
      "metadata": {
        "id": "kJsWrg5Z1phB"
      },
      "source": [
        "The metric often used in NMT is the BLEU. We'll also use it to evaluate our models. In fact, the goal of this homework is to beat the specified baseline BLEU scores.\n",
        "\n",
        "Here is how you can calculate the score for your model:"
      ]
    },
    {
      "cell_type": "code",
      "execution_count": 41,
      "metadata": {
        "id": "hogEKcmOPsAh",
        "colab": {
          "base_uri": "https://localhost:8080/"
        },
        "outputId": "dcf7ba8b-8af0-40ce-afb4-42637385c75d"
      },
      "outputs": [
        {
          "output_type": "stream",
          "name": "stdout",
          "text": [
            "Your model shows test BLEU of 22.5\n"
          ]
        }
      ],
      "source": [
        "from nltk.translate.bleu_score import corpus_bleu\n",
        "\n",
        "\n",
        "def bleu(model):\n",
        "  model.eval() \n",
        "  references, hypotheses = [], []\n",
        "  with torch.no_grad():\n",
        "      for src, trg in test_dataloader:\n",
        "          output = model(src.to(device), trg.to(device), teacher_forcing_ratio=0)\n",
        "          output = output.cpu().numpy().argmax(axis=2)\n",
        "\n",
        "          for i in range(trg.shape[1]):\n",
        "              reference = trg[:, i]\n",
        "              reference_tokens = [trg_itos[id_] for id_ in reference]\n",
        "              reference_tokens = [tok for tok in reference_tokens if tok not in specials]\n",
        "              references.append(reference_tokens)\n",
        "\n",
        "              hypothesis = output[:, i]\n",
        "              hypothesis_tokens = [trg_itos[id_] for id_ in hypothesis]\n",
        "              hypothesis_tokens = [tok for tok in hypothesis_tokens if tok not in specials]\n",
        "              hypotheses.append(hypothesis_tokens)\n",
        "\n",
        "  # corpus_bleu works with multiple references\n",
        "  bleu = corpus_bleu([[ref] for ref in references], hypotheses)\n",
        "  print(f\"Your model shows test BLEU of {100 * bleu:.1f}\")\n",
        "  return bleu\n",
        "\n",
        "\n",
        "bleu(model)\n",
        "\n",
        "pass"
      ]
    },
    {
      "cell_type": "markdown",
      "metadata": {
        "id": "i9hHhduLPsAh"
      },
      "source": [
        "Baseline solution BLEU score is quite low. Try to achieve at least __24__ BLEU on the test set. \n",
        "The checkpoints are:\n",
        "\n",
        "* __21__ - minimal score to submit the homework, 30% of points\n",
        "\n",
        "* __25__ - good score, 70% of points\n",
        "\n",
        "* __27__ - excellent score, 100% of points"
      ]
    }
  ],
  "metadata": {
    "accelerator": "GPU",
    "anaconda-cloud": {},
    "colab": {
      "collapsed_sections": [],
      "machine_shape": "hm",
      "name": "en-ru zashikhin",
      "provenance": []
    },
    "kernelspec": {
      "display_name": "Python 3 (ipykernel)",
      "language": "python",
      "name": "python3"
    },
    "language_info": {
      "codemirror_mode": {
        "name": "ipython",
        "version": 3
      },
      "file_extension": ".py",
      "mimetype": "text/x-python",
      "name": "python",
      "nbconvert_exporter": "python",
      "pygments_lexer": "ipython3",
      "version": "3.9.7"
    }
  },
  "nbformat": 4,
  "nbformat_minor": 0
}